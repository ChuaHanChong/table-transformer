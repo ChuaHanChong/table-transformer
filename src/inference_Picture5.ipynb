{
 "cells": [
  {
   "cell_type": "code",
   "execution_count": 1,
   "metadata": {},
   "outputs": [],
   "source": [
    "%load_ext autoreload\n",
    "%autoreload 2\n",
    "\n",
    "import json\n",
    "import random\n",
    "import torch\n",
    "import numpy as np\n",
    "from PIL import Image, ImageDraw\n",
    "\n",
    "import sys\n",
    "sys.path.append(\"../detr\")\n",
    "import util.misc as utils\n",
    "from eval import visualize, visualize_2\n",
    "\n",
    "from main import get_transform, get_model"
   ]
  },
  {
   "cell_type": "code",
   "execution_count": 2,
   "metadata": {},
   "outputs": [],
   "source": [
    "cmd_args = {\n",
    "    \"data_type\": \"structure\",\n",
    "    \"config_file\": \"./structure_config.json\",\n",
    "    \"model_load_path\": \"../models/pubtables1m_structure_detr_r18.pth\",\n",
    "    \"table_words_dir\": \"../data/Own-Samples\",\n",
    "}\n",
    "config_args = json.load(open(cmd_args[\"config_file\"], \"rb\"))\n",
    "config_args[\"device\"] = \"cpu\"\n",
    "\n",
    "for key, value in cmd_args.items():\n",
    "    if not key in config_args or not value is None:\n",
    "        config_args[key] = value\n",
    "args = type(\"Args\", (object,), config_args)\n",
    "#print(args.__dict__)"
   ]
  },
  {
   "cell_type": "code",
   "execution_count": 3,
   "metadata": {},
   "outputs": [
    {
     "name": "stdout",
     "output_type": "stream",
     "text": [
      "loading model from checkpoint\n"
     ]
    }
   ],
   "source": [
    "seed = args.seed + utils.get_rank()\n",
    "torch.manual_seed(seed)\n",
    "np.random.seed(seed)\n",
    "random.seed(seed)\n",
    "\n",
    "device = args.device\n",
    "model, criterion, postprocessors = get_model(args, device)"
   ]
  },
  {
   "cell_type": "code",
   "execution_count": 4,
   "metadata": {},
   "outputs": [],
   "source": [
    "model.eval();"
   ]
  },
  {
   "cell_type": "code",
   "execution_count": 5,
   "metadata": {},
   "outputs": [],
   "source": [
    "criterion.eval();"
   ]
  },
  {
   "cell_type": "code",
   "execution_count": 6,
   "metadata": {},
   "outputs": [
    {
     "data": {
      "text/plain": [
       "{'bbox': PostProcess()}"
      ]
     },
     "execution_count": 6,
     "metadata": {},
     "output_type": "execute_result"
    }
   ],
   "source": [
    "postprocessors"
   ]
  },
  {
   "cell_type": "code",
   "execution_count": 7,
   "metadata": {},
   "outputs": [
    {
     "name": "stdout",
     "output_type": "stream",
     "text": [
      "Image size: (1143, 880)\n",
      "Tensor size: torch.Size([3, 770, 1000])\n"
     ]
    }
   ],
   "source": [
    "target = {\n",
    "    \"img_path\": \"../data/Own-Samples/Picture5.jpg\",\n",
    "    \"boxes\":[],\n",
    "}\n",
    "\n",
    "img_path = target[\"img_path\"]\n",
    "img = Image.open(img_path).convert(\"RGB\")\n",
    "print(\"Image size:\", img.size)\n",
    "\n",
    "transforms =  get_transform(args.data_type, \"val\")\n",
    "img_tensor, target = transforms(img, target)\n",
    "print(\"Tensor size:\", img_tensor.size())\n",
    "\n",
    "outputs = model(img_tensor.unsqueeze(0))\n",
    "#print(outputs.keys())\n",
    "\n",
    "pred_logits = outputs[\"pred_logits\"][0]\n",
    "pred_boxes = outputs[\"pred_boxes\"][0]\n",
    "#visualize(args, target, pred_logits, pred_boxes)\n"
   ]
  },
  {
   "cell_type": "code",
   "execution_count": 8,
   "metadata": {},
   "outputs": [],
   "source": [
    "_, pred_cells, _ = visualize_2(args, target, pred_logits, pred_boxes)"
   ]
  },
  {
   "cell_type": "code",
   "execution_count": 9,
   "metadata": {},
   "outputs": [
    {
     "data": {
      "text/plain": [
       "{'bbox': [51.0, 53.0, 269.0, 84.0],\n",
       " 'column_nums': [0],\n",
       " 'row_nums': [0],\n",
       " 'header': True,\n",
       " 'subcell': False,\n",
       " 'subheader': False,\n",
       " 'cell_text': '',\n",
       " 'spans': []}"
      ]
     },
     "execution_count": 9,
     "metadata": {},
     "output_type": "execute_result"
    }
   ],
   "source": [
    "pred_cells[0]"
   ]
  },
  {
   "cell_type": "code",
   "execution_count": 10,
   "metadata": {},
   "outputs": [
    {
     "name": "stdout",
     "output_type": "stream",
     "text": [
      "60\n",
      "{0, 1, 2, 3, 4, 5, 6}\n",
      "{0, 1, 2, 3, 4, 5, 6, 7, 8, 9}\n",
      "{False, True}\n",
      "{False, None}\n",
      "{False, True}\n",
      "{'', '(12)', '3', '56', '(7)', '(70)', '260', '403', 'Trading EBITDA', '(10)', '(32)', '2019', 'profit before exceptional items', '(6)', '(2)', 'Share-based payments', '307', '243', 'Amortisation and epreciation', '320', '337', 'Roadside £m', '(8)', '(1)', 'Insurance £m', '(67)', '(60)', 'Group £m', '316', '284', '304', 'Pension service charge adjustment', '61', '(63)', '71', '2018', '66', '391', 'Operatin', 'Exceptional operating items', 'Operating profit'}\n"
     ]
    }
   ],
   "source": [
    "print(len(pred_cells))\n",
    "print(set([d['column_nums'][0] for d in pred_cells]))\n",
    "print(set([d['row_nums'][0] for d in pred_cells]))\n",
    "print(set([d['header'] for d in pred_cells]))\n",
    "print(set([d.get('subcell') for d in pred_cells]))\n",
    "print(set([d['subheader'] for d in pred_cells]))\n",
    "print(set([d['cell_text'] for d in pred_cells]))"
   ]
  },
  {
   "cell_type": "code",
   "execution_count": 15,
   "metadata": {},
   "outputs": [
    {
     "name": "stdout",
     "output_type": "stream",
     "text": [
      "Share-based payments\n",
      "{'bbox': [51.0, 271.0, 269.0, 323.0], 'column_nums': [0], 'row_nums': [3], 'header': False, 'subcell': False, 'subheader': False, 'cell_text': 'Share-based payments', 'spans': [{'bbox': [61, 271, 197, 290], 'text': 'Share-based', 'flags': 0, 'span_num': 446, 'line_num': 0, 'block_num': 0}, {'bbox': [62, 285, 169, 320], 'text': 'payments', 'flags': 0, 'span_num': 447, 'line_num': 0, 'block_num': 0}]}\n",
      "Pension service charge adjustment\n",
      "{'bbox': [51.0, 361.0, 269.0, 412.0], 'column_nums': [0], 'row_nums': [4], 'header': False, 'subcell': False, 'subheader': False, 'cell_text': 'Pension service charge adjustment', 'spans': [{'bbox': [62, 361, 147, 379], 'text': 'Pension', 'flags': 0, 'span_num': 454, 'line_num': 0, 'block_num': 0}, {'bbox': [156, 361, 232, 379], 'text': 'service', 'flags': 0, 'span_num': 455, 'line_num': 0, 'block_num': 0}, {'bbox': [61, 383, 134, 405], 'text': 'charge', 'flags': 0, 'span_num': 456, 'line_num': 0, 'block_num': 0}, {'bbox': [143, 383, 269, 405], 'text': 'adjustment', 'flags': 0, 'span_num': 457, 'line_num': 0, 'block_num': 0}]}\n",
      "Roadside £m\n",
      "{'bbox': [315.0, 96.0, 415.0, 148.0], 'column_nums': [1], 'row_nums': [1], 'header': True, 'subcell': False, 'subheader': False, 'cell_text': 'Roadside £m', 'spans': [{'bbox': [315, 96, 414, 115], 'text': 'Roadside', 'flags': 0, 'span_num': 426, 'line_num': 0, 'block_num': 0}, {'bbox': [381, 130, 414, 148], 'text': '£m', 'flags': 0, 'span_num': 432, 'line_num': 0, 'block_num': 0}]}\n",
      "(6)\n",
      "{'bbox': [315.0, 271.0, 415.0, 323.0], 'column_nums': [1], 'row_nums': [3], 'header': False, 'subcell': False, 'subheader': False, 'cell_text': '(6)', 'spans': [{'bbox': [385, 286, 414, 322], 'text': '(6)', 'flags': 0, 'span_num': 448, 'line_num': 0, 'block_num': 0}]}\n",
      "Roadside £m\n",
      "{'bbox': [731.0, 96.0, 831.0, 148.0], 'column_nums': [4], 'row_nums': [1], 'header': True, 'subcell': False, 'subheader': False, 'cell_text': 'Roadside £m', 'spans': [{'bbox': [731, 96, 830, 115], 'text': 'Roadside', 'flags': 0, 'span_num': 429, 'line_num': 0, 'block_num': 0}, {'bbox': [797, 130, 830, 148], 'text': '£m', 'flags': 0, 'span_num': 435, 'line_num': 0, 'block_num': 0}]}\n",
      "2018\n",
      "{'bbox': [315.0, 53.0, 668.0, 84.0], 'column_nums': [1, 2, 3], 'row_nums': [0], 'header': True, 'subheader': False, 'cell_text': '2018', 'spans': [{'bbox': [465, 53, 518, 84], 'text': '2018', 'flags': 0, 'span_num': 424, 'line_num': 0, 'block_num': 0}]}\n",
      "2019\n",
      "{'bbox': [731.0, 53.0, 1085.0, 84.0], 'column_nums': [4, 5, 6], 'row_nums': [0], 'header': True, 'subheader': False, 'cell_text': '2019', 'spans': [{'bbox': [881, 57, 934, 75], 'text': '2019', 'flags': 0, 'span_num': 425, 'line_num': 0, 'block_num': 0}]}\n",
      "Operatin\n",
      "{'bbox': [51.0, 571.0, 1085.0, 593.0], 'column_nums': [0, 1, 2, 3, 4, 5, 6], 'row_nums': [6], 'header': False, 'subheader': True, 'cell_text': 'Operatin', 'spans': [{'bbox': [61, 571, 157, 593], 'text': 'Operatin', 'flags': 0, 'span_num': 473, 'line_num': 0, 'block_num': 0}]}\n"
     ]
    }
   ],
   "source": [
    "for d in pred_cells:\n",
    "    if d['cell_text'] in [\"2018\", \"2019\", \"Roadside £m\", \"Share-based payments\", \"Pension service charge adjustment\", \"Operatin\", \"(6)\"]:\n",
    "        print(d['cell_text'])\n",
    "        print(d)"
   ]
  },
  {
   "cell_type": "code",
   "execution_count": 12,
   "metadata": {},
   "outputs": [],
   "source": [
    "#for d in pred_cells:\n",
    "#    if d.get('spans'):\n",
    "#        print(d['cell_text'])\n",
    "#        print(d)"
   ]
  },
  {
   "cell_type": "code",
   "execution_count": null,
   "metadata": {},
   "outputs": [],
   "source": []
  }
 ],
 "metadata": {
  "kernelspec": {
   "display_name": "Python 3.6.10 ('tables-detr')",
   "language": "python",
   "name": "python3"
  },
  "language_info": {
   "codemirror_mode": {
    "name": "ipython",
    "version": 3
   },
   "file_extension": ".py",
   "mimetype": "text/x-python",
   "name": "python",
   "nbconvert_exporter": "python",
   "pygments_lexer": "ipython3",
   "version": "3.6.10"
  },
  "orig_nbformat": 4,
  "vscode": {
   "interpreter": {
    "hash": "a00fc9795691c413ea80fb57cc9d2cacd3de721d5a91bb023634026265e553e5"
   }
  }
 },
 "nbformat": 4,
 "nbformat_minor": 2
}
