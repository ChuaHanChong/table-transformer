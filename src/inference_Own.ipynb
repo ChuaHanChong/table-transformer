{
 "cells": [
  {
   "cell_type": "code",
   "execution_count": 1,
   "metadata": {},
   "outputs": [],
   "source": [
    "%load_ext autoreload\n",
    "%autoreload 2\n",
    "\n",
    "import json\n",
    "import random\n",
    "import torch\n",
    "import numpy as np\n",
    "from PIL import Image\n",
    "\n",
    "import sys\n",
    "sys.path.append(\"../detr\")\n",
    "import util.misc as utils\n",
    "from eval import visualize\n",
    "\n",
    "from main import get_transform, get_model"
   ]
  },
  {
   "cell_type": "code",
   "execution_count": 2,
   "metadata": {},
   "outputs": [],
   "source": [
    "cmd_args = {\n",
    "    \"data_type\": \"structure\",\n",
    "    \"config_file\": \"./structure_config.json\",\n",
    "    \"model_load_path\": \"../models/pubtables1m_structure_detr_r18.pth\",\n",
    "    \"debug_save_dir\": \"../data/Own-Samples/preds\",\n",
    "    \"table_words_dir\": \"../data/Own-Samples\",\n",
    "}\n",
    "config_args = json.load(open(cmd_args[\"config_file\"], \"rb\"))\n",
    "config_args[\"device\"] = \"cpu\"\n",
    "\n",
    "for key, value in cmd_args.items():\n",
    "    if not key in config_args or not value is None:\n",
    "        config_args[key] = value\n",
    "args = type(\"Args\", (object,), config_args)\n",
    "# print(args.__dict__)"
   ]
  },
  {
   "cell_type": "code",
   "execution_count": 3,
   "metadata": {},
   "outputs": [
    {
     "name": "stdout",
     "output_type": "stream",
     "text": [
      "loading model from checkpoint\n"
     ]
    }
   ],
   "source": [
    "seed = args.seed + utils.get_rank()\n",
    "torch.manual_seed(seed)\n",
    "np.random.seed(seed)\n",
    "random.seed(seed)\n",
    "\n",
    "device = args.device\n",
    "model, criterion, postprocessors = get_model(args, device)"
   ]
  },
  {
   "cell_type": "code",
   "execution_count": 4,
   "metadata": {},
   "outputs": [],
   "source": [
    "model.eval();"
   ]
  },
  {
   "cell_type": "code",
   "execution_count": 5,
   "metadata": {},
   "outputs": [],
   "source": [
    "criterion.eval();"
   ]
  },
  {
   "cell_type": "code",
   "execution_count": 6,
   "metadata": {},
   "outputs": [
    {
     "data": {
      "text/plain": [
       "{'bbox': PostProcess()}"
      ]
     },
     "execution_count": 6,
     "metadata": {},
     "output_type": "execute_result"
    }
   ],
   "source": [
    "postprocessors"
   ]
  },
  {
   "cell_type": "code",
   "execution_count": 7,
   "metadata": {},
   "outputs": [
    {
     "name": "stdout",
     "output_type": "stream",
     "text": [
      "Image size: (1400, 475)\n",
      "Tensor size: torch.Size([3, 339, 1000])\n",
      "Image size: (712, 432)\n",
      "Tensor size: torch.Size([3, 607, 1000])\n",
      "Image size: (712, 432)\n",
      "Tensor size: torch.Size([3, 607, 1000])\n"
     ]
    }
   ],
   "source": [
    "paths = [\n",
    "    \"../data/Own-Samples/example-table.jpg\",\n",
    "    \"../data/Own-Samples/AA 2018_30_crop.jpg\",\n",
    "    \"../data/Own-Samples/AA 2018_30_crop_2.jpg\"\n",
    "]\n",
    "\n",
    "for path in paths:\n",
    "    target = {\n",
    "        \"img_path\": path,\n",
    "        \"boxes\":[],\n",
    "    }\n",
    "\n",
    "    img_path = target[\"img_path\"]\n",
    "    img = Image.open(img_path).convert(\"RGB\")\n",
    "    print(\"Image size:\", img.size)\n",
    "\n",
    "    transforms =  get_transform(args.data_type, \"val\")\n",
    "    img_tensor, target = transforms(img, target)\n",
    "    print(\"Tensor size:\", img_tensor.size())\n",
    "\n",
    "    outputs = model(img_tensor.unsqueeze(0))\n",
    "    #print(outputs.keys())\n",
    "\n",
    "    pred_logits = outputs[\"pred_logits\"][0]\n",
    "    pred_boxes = outputs[\"pred_boxes\"][0]\n",
    "    visualize(args, target, pred_logits, pred_boxes)\n",
    "\n",
    "    #print(pred_logits.size())\n",
    "    #print(pred_logits.softmax(-1).max(-1).indices)\n"
   ]
  },
  {
   "cell_type": "code",
   "execution_count": null,
   "metadata": {},
   "outputs": [],
   "source": [
    "#import json\n",
    "#import xmltodict\n",
    "#\n",
    "#with open(\"../data/PubTables-1M-Samples/PMC493271_table_0.xml\") as xml_file:     \n",
    "#    data_dict = xmltodict.parse(xml_file.read())     \n",
    "#    json_data = json.dumps(data_dict)\n",
    "#     \n",
    "#    with open(\"../data/PubTables-1M-Samples/PMC493271_table_0.json\", \"w\") as json_file:\n",
    "#        json_file.write(json_data)"
   ]
  },
  {
   "cell_type": "code",
   "execution_count": null,
   "metadata": {},
   "outputs": [],
   "source": []
  }
 ],
 "metadata": {
  "kernelspec": {
   "display_name": "Python 3.6.10 ('tables-detr')",
   "language": "python",
   "name": "python3"
  },
  "language_info": {
   "codemirror_mode": {
    "name": "ipython",
    "version": 3
   },
   "file_extension": ".py",
   "mimetype": "text/x-python",
   "name": "python",
   "nbconvert_exporter": "python",
   "pygments_lexer": "ipython3",
   "version": "3.6.10"
  },
  "orig_nbformat": 4,
  "vscode": {
   "interpreter": {
    "hash": "a00fc9795691c413ea80fb57cc9d2cacd3de721d5a91bb023634026265e553e5"
   }
  }
 },
 "nbformat": 4,
 "nbformat_minor": 2
}
