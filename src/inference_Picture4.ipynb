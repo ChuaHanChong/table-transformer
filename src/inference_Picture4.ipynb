{
 "cells": [
  {
   "cell_type": "code",
   "execution_count": 1,
   "metadata": {},
   "outputs": [],
   "source": [
    "%load_ext autoreload\n",
    "%autoreload 2\n",
    "\n",
    "import json\n",
    "import random\n",
    "import torch\n",
    "import numpy as np\n",
    "from PIL import Image, ImageDraw\n",
    "\n",
    "import sys\n",
    "sys.path.append(\"../detr\")\n",
    "import util.misc as utils\n",
    "from eval import visualize, visualize_2\n",
    "\n",
    "from main import get_transform, get_model"
   ]
  },
  {
   "cell_type": "code",
   "execution_count": 2,
   "metadata": {},
   "outputs": [],
   "source": [
    "cmd_args = {\n",
    "    \"data_type\": \"structure\",\n",
    "    \"config_file\": \"./structure_config.json\",\n",
    "    \"model_load_path\": \"../models/pubtables1m_structure_detr_r18.pth\",\n",
    "    \"table_words_dir\": \"../data/Own-Samples\",\n",
    "}\n",
    "config_args = json.load(open(cmd_args[\"config_file\"], \"rb\"))\n",
    "config_args[\"device\"] = \"cpu\"\n",
    "\n",
    "for key, value in cmd_args.items():\n",
    "    if not key in config_args or not value is None:\n",
    "        config_args[key] = value\n",
    "args = type(\"Args\", (object,), config_args)\n",
    "#print(args.__dict__)"
   ]
  },
  {
   "cell_type": "code",
   "execution_count": 3,
   "metadata": {},
   "outputs": [
    {
     "name": "stdout",
     "output_type": "stream",
     "text": [
      "loading model from checkpoint\n"
     ]
    }
   ],
   "source": [
    "seed = args.seed + utils.get_rank()\n",
    "torch.manual_seed(seed)\n",
    "np.random.seed(seed)\n",
    "random.seed(seed)\n",
    "\n",
    "device = args.device\n",
    "model, criterion, postprocessors = get_model(args, device)"
   ]
  },
  {
   "cell_type": "code",
   "execution_count": 4,
   "metadata": {},
   "outputs": [],
   "source": [
    "model.eval();"
   ]
  },
  {
   "cell_type": "code",
   "execution_count": 5,
   "metadata": {},
   "outputs": [],
   "source": [
    "criterion.eval();"
   ]
  },
  {
   "cell_type": "code",
   "execution_count": 6,
   "metadata": {},
   "outputs": [
    {
     "data": {
      "text/plain": [
       "{'bbox': PostProcess()}"
      ]
     },
     "execution_count": 6,
     "metadata": {},
     "output_type": "execute_result"
    }
   ],
   "source": [
    "postprocessors"
   ]
  },
  {
   "cell_type": "code",
   "execution_count": 7,
   "metadata": {},
   "outputs": [
    {
     "name": "stdout",
     "output_type": "stream",
     "text": [
      "Image size: (4900, 2110)\n",
      "Tensor size: torch.Size([3, 431, 1000])\n"
     ]
    }
   ],
   "source": [
    "target = {\n",
    "    \"img_path\": \"../data/Own-Samples/Picture4.jpg\",\n",
    "    \"boxes\":[],\n",
    "}\n",
    "\n",
    "img_path = target[\"img_path\"]\n",
    "img = Image.open(img_path).convert(\"RGB\")\n",
    "print(\"Image size:\", img.size)\n",
    "\n",
    "transforms =  get_transform(args.data_type, \"val\")\n",
    "img_tensor, target = transforms(img, target)\n",
    "print(\"Tensor size:\", img_tensor.size())\n",
    "\n",
    "outputs = model(img_tensor.unsqueeze(0))\n",
    "#print(outputs.keys())\n",
    "\n",
    "pred_logits = outputs[\"pred_logits\"][0]\n",
    "pred_boxes = outputs[\"pred_boxes\"][0]\n",
    "#visualize(args, target, pred_logits, pred_boxes)\n"
   ]
  },
  {
   "cell_type": "code",
   "execution_count": 8,
   "metadata": {},
   "outputs": [],
   "source": [
    "_, pred_cells, _ = visualize_2(args, target, pred_logits, pred_boxes)"
   ]
  },
  {
   "cell_type": "code",
   "execution_count": 9,
   "metadata": {},
   "outputs": [
    {
     "data": {
      "text/plain": [
       "{'bbox': [293.0, 242.0, 1844.0, 302.0],\n",
       " 'column_nums': [0],\n",
       " 'row_nums': [0],\n",
       " 'header': True,\n",
       " 'subcell': False,\n",
       " 'subheader': False,\n",
       " 'cell_text': '',\n",
       " 'spans': []}"
      ]
     },
     "execution_count": 9,
     "metadata": {},
     "output_type": "execute_result"
    }
   ],
   "source": [
    "pred_cells[0]"
   ]
  },
  {
   "cell_type": "code",
   "execution_count": 10,
   "metadata": {},
   "outputs": [
    {
     "name": "stdout",
     "output_type": "stream",
     "text": [
      "60\n",
      "{0, 1, 2, 3, 4, 5, 6}\n",
      "{0, 1, 2, 3, 4, 5, 6, 7, 8, 9}\n",
      "{False, True}\n",
      "{False, None}\n",
      "{False}\n",
      "{'', '(8)', '(10)', '2019', '307', '304', '316', '320', 'Share-based payments', '56', 'Operating profit', '71', '260', '(7)', '391', '284', 'Insurance £m', '243', '(32)', '403', 'Trading EBITDA', '66', '337', 'Roadside £m', '(12)', 'Amortisation and depreciation', 'Exceptional operating items', '(1)', '(6)', '(67)', '61', 'Pension service charge adjustment', '(63)', 'Group £m', '(70)', '2018', 'Operating profit before exceptional items', '(60)', '(2)'}\n"
     ]
    }
   ],
   "source": [
    "print(len(pred_cells))\n",
    "print(set([d['column_nums'][0] for d in pred_cells]))\n",
    "print(set([d['row_nums'][0] for d in pred_cells]))\n",
    "print(set([d['header'] for d in pred_cells]))\n",
    "print(set([d.get('subcell') for d in pred_cells]))\n",
    "print(set([d['subheader'] for d in pred_cells]))\n",
    "print(set([d['cell_text'] for d in pred_cells]))"
   ]
  },
  {
   "cell_type": "code",
   "execution_count": 13,
   "metadata": {},
   "outputs": [
    {
     "name": "stdout",
     "output_type": "stream",
     "text": [
      "Share-based payments\n",
      "{'bbox': [293.0, 840.0, 1844.0, 920.0], 'column_nums': [0], 'row_nums': [4], 'header': False, 'subcell': False, 'subheader': False, 'cell_text': 'Share-based payments', 'spans': [{'bbox': [296, 841, 747, 904], 'text': 'Share-based', 'flags': 0, 'span_num': 358, 'line_num': 0, 'block_num': 0}, {'bbox': [781, 849, 1140, 920], 'text': 'payments', 'flags': 0, 'span_num': 359, 'line_num': 0, 'block_num': 0}]}\n",
      "2018\n",
      "{'bbox': [2049.0, 242.0, 3231.0, 302.0], 'column_nums': [1, 2, 3], 'row_nums': [0], 'header': True, 'subheader': False, 'cell_text': '2018', 'spans': [{'bbox': [2518, 242, 2695, 302], 'text': '2018', 'flags': 0, 'span_num': 384, 'line_num': 0, 'block_num': 0}]}\n",
      "2019\n",
      "{'bbox': [3424.0, 242.0, 4605.0, 302.0], 'column_nums': [4, 5, 6], 'row_nums': [0], 'header': True, 'subheader': False, 'cell_text': '2019', 'spans': [{'bbox': [3891, 242, 4069, 302], 'text': '2019', 'flags': 0, 'span_num': 407, 'line_num': 0, 'block_num': 0}]}\n",
      "Roadside £m\n",
      "{'bbox': [2049.0, 358.0, 2379.0, 541.0], 'column_nums': [1], 'row_nums': [1, 2], 'header': True, 'subheader': False, 'cell_text': 'Roadside £m', 'spans': [{'bbox': [2049, 358, 2379, 421], 'text': 'Roadside', 'flags': 0, 'span_num': 377, 'line_num': 0, 'block_num': 0}, {'bbox': [2266, 482, 2375, 541], 'text': '£m', 'flags': 0, 'span_num': 378, 'line_num': 0, 'block_num': 0}]}\n",
      "Roadside £m\n",
      "{'bbox': [3424.0, 358.0, 3754.0, 541.0], 'column_nums': [4], 'row_nums': [1, 2], 'header': True, 'subheader': False, 'cell_text': 'Roadside £m', 'spans': [{'bbox': [3424, 358, 3754, 421], 'text': 'Roadside', 'flags': 0, 'span_num': 400, 'line_num': 0, 'block_num': 0}, {'bbox': [3641, 482, 3750, 541], 'text': '£m', 'flags': 0, 'span_num': 401, 'line_num': 0, 'block_num': 0}]}\n"
     ]
    }
   ],
   "source": [
    "for d in pred_cells:\n",
    "    if d['cell_text'] in [\"2018\", \"2019\", \"Roadside £m\", \"Share-based payments\"]:\n",
    "        print(d['cell_text'])\n",
    "        print(d)"
   ]
  },
  {
   "cell_type": "code",
   "execution_count": 12,
   "metadata": {},
   "outputs": [],
   "source": [
    "#for d in pred_cells:\n",
    "#    if d.get('spans'):\n",
    "#        print(d['cell_text'])\n",
    "#        print(d)"
   ]
  },
  {
   "cell_type": "code",
   "execution_count": null,
   "metadata": {},
   "outputs": [],
   "source": []
  }
 ],
 "metadata": {
  "kernelspec": {
   "display_name": "Python 3.6.10 ('tables-detr')",
   "language": "python",
   "name": "python3"
  },
  "language_info": {
   "codemirror_mode": {
    "name": "ipython",
    "version": 3
   },
   "file_extension": ".py",
   "mimetype": "text/x-python",
   "name": "python",
   "nbconvert_exporter": "python",
   "pygments_lexer": "ipython3",
   "version": "3.6.10"
  },
  "orig_nbformat": 4,
  "vscode": {
   "interpreter": {
    "hash": "a00fc9795691c413ea80fb57cc9d2cacd3de721d5a91bb023634026265e553e5"
   }
  }
 },
 "nbformat": 4,
 "nbformat_minor": 2
}
